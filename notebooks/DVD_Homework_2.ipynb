{
 "cells": [
  {
   "cell_type": "markdown",
   "metadata": {},
   "source": [
    "R basics\n",
    "----------\n",
    "\n",
    "\n",
    "**Table Manipulations via dplyr**\n",
    "\n",
    "I want to spend a little more time with some basic table operations in R. Working with tabular data is extremely common -- think about all the calculations you've made with a spreadsheet program. So you don't lose the momentum from this morning, we'll spend more time with a package that makes it easier to **create new tables from old**.\n",
    "\n",
    "A package is simply a bundle of code and data. By authoring packages, people can contribute new functionality to the R language. In the case we will look at today, the package was written by [Hadley Wickham](http://hadley.nz/), and introduces new functions to make table manipulations a little simpler. The package is called `dplyr.`\n",
    "\n",
    "This morning, we saw how important it was to perform simple numerical calculations on tables. And we are going to rehearse some of the same operations. To learn about a package, we can read the documentation provided by its author. [Here is the documentation for dplyr](https://dplyr.tidyverse.org/index.html). It can be a little opaque. Sometimes, however, when people create a package in R, they also write a **vignette** that walks you through how to use the data and commands in the package. That is true for dplyr, and you can read the [vignette for dplyr](https://cran.rstudio.com/web/packages/dplyr/vignettes/introduction.html) after we've run through this brief introduction. \n",
    "\n",
    "Here are the new commands -- or \"verbs\" -- Hadley has introduced with his package. We saw how to use them earlier today and will revist them in the examples below. In each case, **the functions take a table (a data frame) as input and return another, altered data frame as output.** These functions let you specify subsets, sort on columns, and create new columns. But in each case, you give a table and you get a table.\n",
    "\n",
    "- filter()\n",
    "- arrange()\n",
    "- select()\n",
    "- distinct()\n",
    "- mutate()\n",
    "- summarise()\n",
    "- group_by()\n",
    "- sample_n()\n",
    "\n",
    "We will again use the FBI Uniform Crime Reporting statitics, and start by reading the data."
   ]
  },
  {
   "cell_type": "code",
   "execution_count": null,
   "metadata": {},
   "outputs": [],
   "source": [
    "ucr <- read.csv(\"https://github.com/cocteau/D4D/raw/master/data/ucr_crime_1975_2015.csv\",as.is=TRUE)\n",
    "head(ucr)"
   ]
  },
  {
   "cell_type": "markdown",
   "metadata": {},
   "source": [
    "This is how we make use of the new package authored by Hadley. We call the command library() with the name of the package. The R web site publishes [a list of all the packages that are available for you](https://cran.r-project.org/web/packages/available_packages_by_name.html).  We'll talk about packages in a little detail a bit later in the semester. For now, let's just use `dplyr`."
   ]
  },
  {
   "cell_type": "code",
   "execution_count": null,
   "metadata": {},
   "outputs": [],
   "source": [
    "library(dplyr)"
   ]
  },
  {
   "cell_type": "markdown",
   "metadata": {},
   "source": [
    "You might get a message (colored pinkish) warning you that Hadley has chosen a name for some of his functions that are already being used by R. For example, the name `filter` was given to a function that the original designers of R created -- it has to do with \"filtering\" curves like when we smoothed our crime plot of Miami. Hadley chose to give a function in `dplyr` the same name, `filter`, creating a conflict between what the R creators developed and what Hadley contributed in `dplyr.` We now have two functions named `filter.` \n",
    "\n",
    "The pink warning message is telling you how R has resolved the conflict -- the name `filter` will now refer to Hadley's function rather than the original version. This kind of warning is usually not something we'll worry about, but I wanted you to understand why there's suddenly a pink box in your notebook.\n",
    "\n",
    "Instead of dealing with \"time series\" of data like the original `filter` function, the `dplyr` version filters a data frame in the sense that it selects only rows satisfying certain conditions -- it creates \"subsets\" of our original data table. In our case, we're going to use `dplyr` to find subsets of the crime data occurring in certain years or in certain places. For example, let's start by using Hadley's `filter()` command to create a subset of the UCR data for Miami. The command takes a data set and then one or more conditions. It returns a data set consisting of rows that satisfying the conditions you specify. \n",
    "\n",
    "Here are some examples. First, pull out the 41 data points in our UCR table that refer to Miami. The \"==\" sign is a logical operator that selects just those department_name's that are equal to \"Miami\"."
   ]
  },
  {
   "cell_type": "code",
   "execution_count": null,
   "metadata": {},
   "outputs": [],
   "source": [
    "filter(ucr, department_name == \"Miami\")"
   ]
  },
  {
   "cell_type": "markdown",
   "metadata": {},
   "source": [
    "With `filter()` we provide the name of the data set and then one or more conditions separated by commas. Below we look at just the data from Miami for 1982."
   ]
  },
  {
   "cell_type": "code",
   "execution_count": null,
   "metadata": {},
   "outputs": [],
   "source": [
    "filter(ucr,department_name == 'Miami', year==1982)"
   ]
  },
  {
   "cell_type": "markdown",
   "metadata": {},
   "source": [
    "This is why the `dplyr` tools are popular. See how easy it is to read what we're doing? Below we look for all the data for Miami between 2001 and 2015. We see two operators, \"less than or equal\" and  \"greater than or equal\" that we use to specify the range of years. "
   ]
  },
  {
   "cell_type": "code",
   "execution_count": null,
   "metadata": {},
   "outputs": [],
   "source": [
    "filter(ucr,department_name == 'Miami', year <= 2015, year >= 2001)"
   ]
  },
  {
   "cell_type": "markdown",
   "metadata": {},
   "source": [
    "There are several operators for making comparisons. Here are a few.\n",
    "\n",
    "- <  less than\n",
    "- \\>  greater than\n",
    "- <=  less than or equal to\n",
    "- \\>=  greater than or equal to\n",
    "- ==  equal to\n",
    "\n",
    "One last handy operator is `%in%`. This allows you to specify options rather than a range as we did with `<=` and `\\>=`. We might specify the options we're after using the concatenate function `c()`. In the code below we look for a department_name that is \"Miami\" or \"Boston\"."
   ]
  },
  {
   "cell_type": "code",
   "execution_count": null,
   "metadata": {},
   "outputs": [],
   "source": [
    "filter(ucr,department_name %in% c(\"Miami\",\"Boston\"), year==2000)"
   ]
  },
  {
   "cell_type": "markdown",
   "metadata": {},
   "source": [
    "Make a few subsets of your own. "
   ]
  },
  {
   "cell_type": "code",
   "execution_count": null,
   "metadata": {},
   "outputs": [],
   "source": [
    "# Find the crime data for Los Angeles\n",
    "# Put your code here\n"
   ]
  },
  {
   "cell_type": "code",
   "execution_count": null,
   "metadata": {},
   "outputs": [],
   "source": [
    "# Find the crime data for Atlanta in our data set for 1975 and 2015 \n",
    "# Put your code here\n"
   ]
  },
  {
   "cell_type": "code",
   "execution_count": null,
   "metadata": {},
   "outputs": [],
   "source": [
    "# Find 2015 crime data for cities that are bigger than Miami in 2015\n",
    "# Put your code here\n"
   ]
  },
  {
   "cell_type": "code",
   "execution_count": null,
   "metadata": {},
   "outputs": [],
   "source": [
    "# Find entries in our table where the violent crime per 100,000 people is larger than 4,000\n",
    "# Put your code here\n"
   ]
  },
  {
   "cell_type": "markdown",
   "metadata": {},
   "source": [
    "The command `filter()` returns a data frame (remember that's R's table). In the past few expressions we have bee letting the subsets of data just print to the notebook. We can catch the data and give it a name also. Here's how we make a data set for Miami, using the name \"miami\". (It's often good practice to name your data descriptively -- calling Miami's crime statistics \"philly\" would just be  confusing.)"
   ]
  },
  {
   "cell_type": "code",
   "execution_count": null,
   "metadata": {},
   "outputs": [],
   "source": [
    "miami <-filter(ucr, department_name == 'Miami')"
   ]
  },
  {
   "cell_type": "markdown",
   "metadata": {},
   "source": [
    "The next verb we'll look at from Hadley is **select()**. This chooses columns to keep in a data set. So rather than consider all the data, we might select certain variables. Here we look at just \"year\" and \"total_pop\" for Miami."
   ]
  },
  {
   "cell_type": "code",
   "execution_count": null,
   "metadata": {},
   "outputs": [],
   "source": [
    "select(miami,year,total_pop)"
   ]
  },
  {
   "cell_type": "markdown",
   "metadata": {},
   "source": [
    "Again, the result is a data frame, another table. "
   ]
  },
  {
   "cell_type": "code",
   "execution_count": null,
   "metadata": {},
   "outputs": [],
   "source": [
    "# Select two different columns from your miami data set\n",
    "#\n"
   ]
  },
  {
   "cell_type": "markdown",
   "metadata": {},
   "source": [
    "The verb `arrange()` sorts data based on the values in one or more columns. It reorders rows as you would in a spreadsheet if you chose to sort the sheet by a column (or two or three). Here we create a data set of big cities (populations larger than 1.5M) and sort them by population..."
   ]
  },
  {
   "cell_type": "code",
   "execution_count": null,
   "metadata": {},
   "outputs": [],
   "source": [
    "cities <- filter(ucr, year==2015, total_pop > 1500000)\n",
    "arrange(cities,total_pop)"
   ]
  },
  {
   "cell_type": "markdown",
   "metadata": {},
   "source": [
    "... and if we wanted cities ordered so that population is descending rather than ascending we use `desc()`."
   ]
  },
  {
   "cell_type": "code",
   "execution_count": null,
   "metadata": {},
   "outputs": [],
   "source": [
    "arrange(cities,desc(total_pop))"
   ]
  },
  {
   "cell_type": "markdown",
   "metadata": {},
   "source": [
    "With the next commands we create a data set of big cities (populations larger than 3M) for any year and sort the resulting data by `department_name` and then year. That means, when we have data from the same city, we order them by year. We can add as many column names as we like in `arrange()` and it will continue to break ties while it sorts using the columns deeper in the list. "
   ]
  },
  {
   "cell_type": "code",
   "execution_count": null,
   "metadata": {},
   "outputs": [],
   "source": [
    "cities <- filter(ucr, total_pop > 3000000)\n",
    "arrange(cities,department_name,year)"
   ]
  },
  {
   "cell_type": "markdown",
   "metadata": {},
   "source": [
    "The verb `summarise()` (Hadley is from New Zealand, but `summarize()` works too) creates simple summary statistics. Here you supply the columns you'd like to summarize and what you'd like to name the summaries. The function will create a new data labeling the columns with the names you provide. Summary functions like `sum()`, `mean()`, `median()`, `var()` for variance, `sd()` for standard deviation, `min()` and `max()` are just some of the things you can do."
   ]
  },
  {
   "cell_type": "code",
   "execution_count": null,
   "metadata": {},
   "outputs": [],
   "source": [
    "miami <- filter(ucr, department_name == 'Miami')\n",
    "summarise(miami,homicide=sum(homs_sum), robbery=sum(rob_sum))"
   ]
  },
  {
   "cell_type": "markdown",
   "metadata": {},
   "source": [
    "The `summarise()` function really comes in handy when paired with `group_by()`. This function forms groups of rows of your data set depending on vaues of the variable you specify. Below we group data by department_name. We then `summarise()` the data in each group, creating a new table where each row contains the summaries for a given city. "
   ]
  },
  {
   "cell_type": "code",
   "execution_count": null,
   "metadata": {},
   "outputs": [],
   "source": [
    "cities <- group_by(ucr,department_name)\n",
    "summarise(cities,homicide=sum(homs_sum), robbery=sum(rob_sum))"
   ]
  },
  {
   "cell_type": "code",
   "execution_count": null,
   "metadata": {},
   "outputs": [],
   "source": [
    "# Create a data set, one row per city, consisting of largest and smallest  \n",
    "# rates of violent crime per 100K people over the 1975-2015 period. Call the columns\n",
    "# maxv and minv\n",
    "#\n",
    "# Put your code here\n"
   ]
  },
  {
   "cell_type": "markdown",
   "metadata": {},
   "source": [
    "Finally, the command `mutate()` creates new columns in your data set. Last time we did it with `$`, but here the function takes the name of the data set and then one or more expressions defining new columns. Here we divide `violent_crime` by `total_pop` to get a \"per person\" or per capita figure (rather than per 100K people). The new column is called `violent_percapita`."
   ]
  },
  {
   "cell_type": "code",
   "execution_count": null,
   "metadata": {},
   "outputs": [],
   "source": [
    "new_ucr <- mutate(ucr,violent_percapita=violent_crime/total_pop)\n",
    "head(new_ucr)"
   ]
  },
  {
   "cell_type": "markdown",
   "metadata": {},
   "source": [
    "Make sure you see the new column all the way to the right of the table."
   ]
  }
 ],
 "metadata": {
  "kernelspec": {
   "display_name": "R",
   "language": "R",
   "name": "ir"
  },
  "language_info": {
   "codemirror_mode": "r",
   "file_extension": ".r",
   "mimetype": "text/x-r-source",
   "name": "R",
   "pygments_lexer": "r",
   "version": "3.5.0"
  }
 },
 "nbformat": 4,
 "nbformat_minor": 1
}
